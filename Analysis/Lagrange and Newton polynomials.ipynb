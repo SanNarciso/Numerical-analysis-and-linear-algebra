{
 "cells": [
  {
   "cell_type": "code",
   "execution_count": 1,
   "metadata": {
    "collapsed": false
   },
   "outputs": [],
   "source": [
    "import math\n",
    "import sympy\n",
    "import numpy as np"
   ]
  },
  {
   "cell_type": "code",
   "execution_count": 1,
   "metadata": {
    "collapsed": true
   },
   "outputs": [
    {
     "data": {
      "text/plain": [
       "'\\ny = x**2 + ln(x)\\n[a,b] = [0.4, 0.9]\\nx^* = 0.52\\n'"
      ]
     },
     "execution_count": 1,
     "metadata": {},
     "output_type": "execute_result"
    }
   ],
   "source": [
    "# Inputs and general info\n",
    "\"\"\"\n",
    "y = x^2 + ln(x)\n",
    "[a,b] = [0.4, 0.9]\n",
    "x^* = 0.52\n",
    "\"\"\""
   ]
  },
  {
   "cell_type": "code",
   "execution_count": 3,
   "metadata": {
    "collapsed": false
   },
   "outputs": [
    {
     "name": "stdout",
     "output_type": "stream",
     "text": [
      "x_1 = 0.4 | y = -0.756290731874155\n",
      "x_2 = 0.45 | y = -0.5960076962177716\n",
      "x_3 = 0.5 | y = -0.4431471805599453\n",
      "x_4 = 0.55 | y = -0.29533700075562036\n",
      "x_5 = 0.6 | y = -0.15082562376599074\n",
      "x_6 = 0.65 | y = -0.008282916092454184\n",
      "x_7 = 0.7 | y = 0.1333250560612675\n",
      "x_8 = 0.75 | y = 0.2748179275482191\n",
      "x_9 = 0.8 | y = 0.4168564486857904\n",
      "x_10 = 0.85 | y = 0.559981070502225\n",
      "x_11 = 0.9 | y = 0.7046394843421737\n"
     ]
    }
   ],
   "source": [
    "# 1st task\n",
    "a, b = 0.4, 0.9\n",
    "h = (b-a)/10\n",
    "PointsGrid = [round(a + i*h, 2) for i in range(11)]\n",
    "for i in range(len(PointsGrid)):\n",
    "    print(f'x_{i+1} = {PointsGrid[i]} | y = {PointsGrid[i]**2 + math.log(PointsGrid[i], math.exp(1))}')\n"
   ]
  },
  {
   "cell_type": "code",
   "execution_count": 9,
   "metadata": {
    "collapsed": false
   },
   "outputs": [
    {
     "name": "stdout",
     "output_type": "stream",
     "text": [
      "-0.3835264674066639\n",
      "L_1(x^*) = -0.3840231086382153\n",
      "f(x^*) = -0.3835264674066639\n",
      "|L_1(x^*) - y(x^*)| = 0.000496641231551409\n",
      "min of f''(xi = x_i) = -2.0 \n",
      "max of f''(xi = x_i_1) = -1.3057851239669418\n",
      "max of R_2 is 0.000600000000000001 \n",
      "min of R_2 is  0.0003917355371900832 \n",
      "min |R_2| < |R_2(x^*)| < max |R_2| is True\n",
      "False\n"
     ]
    }
   ],
   "source": [
    "# Evaluating first order Lagrange polynomial according to the task input data\n",
    "x_star = 0.52\n",
    "def f(x):\n",
    "    return x**2 + math.log(x, math.exp(1))\n",
    "\n",
    "print(f(x_star))\n",
    "def L_1(x, x_i, x_i_1):\n",
    "    return (f(x_i)*(x-x_i_1))/(x_i-x_i_1) + (f(x_i_1)*(x-x_i))/(x_i_1-x_i)\n",
    "def two_neighbours(x):\n",
    "    i = 0\n",
    "    while x - (a + i*h) > 0:\n",
    "        i += 1\n",
    "    return [a+(i-1)*h, a+i*h]\n",
    "\n",
    "print(f'L_1(x^*) = {L_1(x_star, two_neighbours(x_star)[0], two_neighbours(x_star)[1])}')\n",
    "print(f'f(x^*) = {f(x_star)}')\n",
    "print(f'|L_1(x^*) - y(x^*)| = {abs(L_1(x_star, two_neighbours(x_star)[0], two_neighbours(x_star)[1]) - f(x_star))}')\n",
    "\n",
    "def R_2(x, xi, x_i, x_i_1):\n",
    "    return ((2 - (1/(xi**2)))*((x-x_i)*(x-x_i_1)))/2\n",
    "# as f'''(x) = 2/(x**3) is > 0 on [0.50, 0.55], min is the left border, max is the right one\n",
    "print(f'min of f\\'\\'(xi = x_i) = {2-(1/(two_neighbours(x_star)[0]**2))} \\nmax of f\\'\\'(xi = x_i_1) = {2-(1/(two_neighbours(x_star)[1]**2))}')\n",
    "\n",
    "print(f'max of R_2 is {R_2(x_star, two_neighbours(x_star)[0], two_neighbours(x_star)[0], two_neighbours(x_star)[1])} \\nmin of R_2 is  {R_2(x_star, two_neighbours(x_star)[1], two_neighbours(x_star)[0], two_neighbours(x_star)[1])} ')\n",
    "\n",
    "print(f'min |R_2| < |R_2(x^*)| < max |R_2| is {abs(R_2(x_star, two_neighbours(x_star)[1], two_neighbours(x_star)[0], two_neighbours(x_star)[1])) < abs(L_1(x_star, two_neighbours(x_star)[0], two_neighbours(x_star)[1]) - f(x_star)) < abs(R_2(x_star, two_neighbours(x_star)[0], two_neighbours(x_star)[0], two_neighbours(x_star)[1]))}')\n",
    "print(abs(L_1(x_star, two_neighbours(x_star)[0], two_neighbours(x_star)[1]) - f(x_star)) <= 10**(-4))\n"
   ]
  },
  {
   "cell_type": "code",
   "execution_count": 8,
   "metadata": {
    "collapsed": false
   },
   "outputs": [
    {
     "name": "stdout",
     "output_type": "stream",
     "text": [
      "L_2(x^*) = -0.3834170683357951\n",
      "max f'''(x) = f'''(x_(i-1)) = 21.94787379972565 \n",
      "min f'''(x) = f'''(x_(i+1)) = 12.02103681442524\n",
      "max R_3(x) = -0.00015363511659807985 \n",
      "min R_3(x) = -8.414725770097686e-05\n",
      "|min R_3| < |R_3(x^*)| < |max R_3| is True\n",
      "error is less than 10^-5 is False\n",
      "R_3(x^*) = 0.00010939907086882084\n",
      "Divided differences table:\n",
      "-0.5960076962177716      3.0572103131565274      -1.0100671707003124      \n",
      "-0.4431471805599453      2.956203596086496      \n",
      "-0.29533700075562036      \n",
      "\n",
      "\n",
      "N_1(x^*) = -0.3840231086382153\n",
      "N_2(x^*) = -0.3834170683357951\n",
      "0.0\n",
      "0.0\n"
     ]
    }
   ],
   "source": [
    "# Evaluating second order Lagrange polynomial according to the task input data\n",
    "# Evaluating Newton's polynomial with divided differences\n",
    "def three_neighbours(x):\n",
    "    i = 0\n",
    "    while x - (a + i*h) > 0:\n",
    "        i += 1\n",
    "    if abs(x - (a + (i-2)*h)) < abs(x - (a + (i+1)*h)):\n",
    "        return [a + (i-2)*h, a+(i-1)*h, a+i*h]\n",
    "    else:\n",
    "        return [a + (i-1)*h, a + i*h, a + (i+1)*h]\n",
    "\n",
    "def L_2(x, x_i_0, x_i, x_i_1):\n",
    "    return f(x_i_0)*(((x_star - x_i)*(x_star - x_i_1))/((x_i_0 - x_i)*(x_i_0 - x_i_1))) + f(x_i)*(((x_star - x_i_0)*(x_star - x_i_1))/((x_i - x_i_0)*(x_i - x_i_1))) + f(x_i_1)*(((x_star - x_i_0)*(x_star - x_i))/((x_i_1 - x_i_0)*(x_i_1 - x_i)))\n",
    "\n",
    "xI0, xI, xI1 = three_neighbours(x_star)[0], three_neighbours(x_star)[1], three_neighbours(x_star)[2]\n",
    "print(f'L_2(x^*) = {L_2(x_star, xI0, xI, xI1)}')\n",
    "\n",
    "def R_3(xi, x, x_i_0, x_i, x_i_1):\n",
    "    return ((2/xi**3)*(x-x_i_0)*(x-x_i)*(x-x_i_1))/6\n",
    "\n",
    "print(f'max f\\'\\'\\'(x) = f\\'\\'\\'(x_(i-1)) = {2/xI0**3} \\nmin f\\'\\'\\'(x) = f\\'\\'\\'(x_(i+1)) = {2/xI1**3}')\n",
    "print(f'max R_3(x) = {R_3(xI0, x_star, xI0, xI, xI1)} \\nmin R_3(x) = {R_3(xI1, x_star, xI0, xI, xI1)}')\n",
    "\n",
    "print(f'|min R_3| < |R_3(x^*)| < |max R_3| is {abs(R_3(xI1, x_star, xI0, xI, xI1)) < abs(L_2(x_star, xI0, xI, xI1) - f(x_star)) < abs(R_3(xI0, x_star, xI0, xI, xI1))}')\n",
    "\n",
    "print(f'error is less than 10^-5 is {abs(L_2(x_star, xI0, xI, xI1) - f(x_star)) <= 10**(-5)}')\n",
    "print('R_3(x^*) =', abs(L_2(x_star, xI0, xI, xI1) - f(x_star)))\n",
    "\n",
    "#table of divided diffs\n",
    "\n",
    "def divided_diffs(x, y, n):\n",
    "    for i in range(1, n):\n",
    "        for j in range(n - i):\n",
    "            y[j][i] = ((y[j][i - 1] - y[j + 1][i - 1]) / (x[j] - x[i + j]))\n",
    "    return y\n",
    "\n",
    "def view_table(y, n):\n",
    "    for i in range(n):\n",
    "        for j in range(n - i):\n",
    "            print(f'{y[i][j]}      ', end=\"\")\n",
    "\n",
    "        print(\"\")\n",
    "\n",
    "print(\"Divided differences table:\")\n",
    "y = [[0 for i in range(3)] for j in range(3)]\n",
    "\n",
    "y[0][0] = f(xI0)\n",
    "y[1][0] = f(xI)\n",
    "y[2][0] = f(xI1)\n",
    "y = divided_diffs([xI0, xI, xI1], y, 3)\n",
    "view_table(y, 3)\n",
    "\n",
    "print('\\n')\n",
    "def N_1(x, x_i, x_i_1):\n",
    "    return f(x_i) + ((f(x_i_1) - f(x_i))/(x_i_1 - x_i))*(x_star-x_i)\n",
    "\n",
    "def N_2(x, xi0, xi, xi1):\n",
    "    return round(f(xi0) + y[0][1]*(x - xi0) + y[0][2]*(x-xi0)*(x-xi), 16)\n",
    "\n",
    "print(f'N_1(x^*) = {N_1(x_star, xI, xI1)}')\n",
    "print(f'N_2(x^*) = {N_2(x_star, xI0, xI, xI1)}')\n",
    "\n",
    "\n",
    "print(N_1(x_star, xI, xI1) - L_1(x_star, xI, xI1))\n",
    "print(N_2(x_star,xI0,xI,xI1) - L_2(x_star, xI0, xI, xI1))"
   ]
  }
 ],
 "metadata": {
  "kernelspec": {
   "display_name": "Python 3",
   "language": "python",
   "name": "python3"
  },
  "language_info": {
   "codemirror_mode": {
    "name": "ipython",
    "version": 2
   },
   "file_extension": ".py",
   "mimetype": "text/x-python",
   "name": "python",
   "nbconvert_exporter": "python",
   "pygments_lexer": "ipython2",
   "version": "2.7.6"
  }
 },
 "nbformat": 4,
 "nbformat_minor": 0
}
